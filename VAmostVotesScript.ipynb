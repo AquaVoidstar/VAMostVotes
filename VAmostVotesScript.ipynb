{
 "cells": [
  {
   "cell_type": "code",
   "execution_count": 1,
   "metadata": {},
   "outputs": [
    {
     "name": "stdout",
     "output_type": "stream",
     "text": [
      "Populating the interactive namespace from numpy and matplotlib\n"
     ]
    }
   ],
   "source": [
    "import pandas as pd\n",
    "import matplotlib.pyplot as plt\n",
    "import numpy as np\n",
    "from adjustText import adjust_text\n",
    "%pylab inline"
   ]
  },
  {
   "cell_type": "code",
   "execution_count": 2,
   "metadata": {},
   "outputs": [],
   "source": [
    "VApop = pd.read_csv(\"/home/mondo/Downloads/virginiapop.csv\")\n",
    "VAvotes = pd.read_csv(\"/home/mondo/Downloads/AllTimeTopVoteGetters.csv\")"
   ]
  },
  {
   "cell_type": "code",
   "execution_count": 3,
   "metadata": {},
   "outputs": [
    {
     "data": {
      "text/html": [
       "<div>\n",
       "<style scoped>\n",
       "    .dataframe tbody tr th:only-of-type {\n",
       "        vertical-align: middle;\n",
       "    }\n",
       "\n",
       "    .dataframe tbody tr th {\n",
       "        vertical-align: top;\n",
       "    }\n",
       "\n",
       "    .dataframe thead th {\n",
       "        text-align: right;\n",
       "    }\n",
       "</style>\n",
       "<table border=\"1\" class=\"dataframe\">\n",
       "  <thead>\n",
       "    <tr style=\"text-align: right;\">\n",
       "      <th></th>\n",
       "      <th>date</th>\n",
       "      <th>Population</th>\n",
       "      <th>Annual Change</th>\n",
       "    </tr>\n",
       "  </thead>\n",
       "  <tbody>\n",
       "    <tr>\n",
       "      <th>0</th>\n",
       "      <td>1900-12-01</td>\n",
       "      <td>1858000</td>\n",
       "      <td>NaN</td>\n",
       "    </tr>\n",
       "    <tr>\n",
       "      <th>1</th>\n",
       "      <td>1901-12-01</td>\n",
       "      <td>1887000</td>\n",
       "      <td>1.56</td>\n",
       "    </tr>\n",
       "    <tr>\n",
       "      <th>2</th>\n",
       "      <td>1902-12-01</td>\n",
       "      <td>1894000</td>\n",
       "      <td>0.37</td>\n",
       "    </tr>\n",
       "    <tr>\n",
       "      <th>3</th>\n",
       "      <td>1903-12-01</td>\n",
       "      <td>1890000</td>\n",
       "      <td>-0.21</td>\n",
       "    </tr>\n",
       "    <tr>\n",
       "      <th>4</th>\n",
       "      <td>1904-12-01</td>\n",
       "      <td>1889000</td>\n",
       "      <td>-0.05</td>\n",
       "    </tr>\n",
       "  </tbody>\n",
       "</table>\n",
       "</div>"
      ],
      "text/plain": [
       "         date   Population   Annual Change\n",
       "0  1900-12-01      1858000             NaN\n",
       "1  1901-12-01      1887000            1.56\n",
       "2  1902-12-01      1894000            0.37\n",
       "3  1903-12-01      1890000           -0.21\n",
       "4  1904-12-01      1889000           -0.05"
      ]
     },
     "execution_count": 3,
     "metadata": {},
     "output_type": "execute_result"
    }
   ],
   "source": [
    "VApop.head()"
   ]
  },
  {
   "cell_type": "code",
   "execution_count": 4,
   "metadata": {
    "scrolled": false
   },
   "outputs": [
    {
     "data": {
      "text/html": [
       "<div>\n",
       "<style scoped>\n",
       "    .dataframe tbody tr th:only-of-type {\n",
       "        vertical-align: middle;\n",
       "    }\n",
       "\n",
       "    .dataframe tbody tr th {\n",
       "        vertical-align: top;\n",
       "    }\n",
       "\n",
       "    .dataframe thead th {\n",
       "        text-align: right;\n",
       "    }\n",
       "</style>\n",
       "<table border=\"1\" class=\"dataframe\">\n",
       "  <thead>\n",
       "    <tr style=\"text-align: right;\">\n",
       "      <th></th>\n",
       "      <th>Candidate</th>\n",
       "      <th>PoliticalParty</th>\n",
       "      <th>ElectionYear</th>\n",
       "      <th>OfficeSought</th>\n",
       "      <th>IsIncument</th>\n",
       "      <th>TotalVotes</th>\n",
       "    </tr>\n",
       "  </thead>\n",
       "  <tbody>\n",
       "    <tr>\n",
       "      <th>0</th>\n",
       "      <td>Mark R. Warner</td>\n",
       "      <td>Democratic</td>\n",
       "      <td>2020</td>\n",
       "      <td>Member United States Senate</td>\n",
       "      <td>True</td>\n",
       "      <td>2466500</td>\n",
       "    </tr>\n",
       "    <tr>\n",
       "      <th>1</th>\n",
       "      <td>Joseph R. Biden</td>\n",
       "      <td>Democratic</td>\n",
       "      <td>2020</td>\n",
       "      <td>President and Vice President</td>\n",
       "      <td>False</td>\n",
       "      <td>2413568</td>\n",
       "    </tr>\n",
       "    <tr>\n",
       "      <th>2</th>\n",
       "      <td>Mark R. Warner</td>\n",
       "      <td>Democratic</td>\n",
       "      <td>2008</td>\n",
       "      <td>United States Senate - 2001 CD Lines</td>\n",
       "      <td>False</td>\n",
       "      <td>2369373</td>\n",
       "    </tr>\n",
       "    <tr>\n",
       "      <th>3</th>\n",
       "      <td>Timothy M. Kaine</td>\n",
       "      <td>Democratic</td>\n",
       "      <td>2012</td>\n",
       "      <td>Member United States Senate</td>\n",
       "      <td>False</td>\n",
       "      <td>2010067</td>\n",
       "    </tr>\n",
       "    <tr>\n",
       "      <th>4</th>\n",
       "      <td>Hillary Clinton</td>\n",
       "      <td>Democratic</td>\n",
       "      <td>2016</td>\n",
       "      <td>President and Vice President</td>\n",
       "      <td>False</td>\n",
       "      <td>1981473</td>\n",
       "    </tr>\n",
       "  </tbody>\n",
       "</table>\n",
       "</div>"
      ],
      "text/plain": [
       "          Candidate PoliticalParty  ElectionYear  \\\n",
       "0    Mark R. Warner     Democratic          2020   \n",
       "1   Joseph R. Biden     Democratic          2020   \n",
       "2    Mark R. Warner     Democratic          2008   \n",
       "3  Timothy M. Kaine     Democratic          2012   \n",
       "4   Hillary Clinton     Democratic          2016   \n",
       "\n",
       "                           OfficeSought  IsIncument  TotalVotes  \n",
       "0           Member United States Senate        True     2466500  \n",
       "1          President and Vice President       False     2413568  \n",
       "2  United States Senate - 2001 CD Lines       False     2369373  \n",
       "3           Member United States Senate       False     2010067  \n",
       "4          President and Vice President       False     1981473  "
      ]
     },
     "execution_count": 4,
     "metadata": {},
     "output_type": "execute_result"
    }
   ],
   "source": [
    "VAvotes.head()"
   ]
  },
  {
   "cell_type": "code",
   "execution_count": null,
   "metadata": {},
   "outputs": [],
   "source": []
  },
  {
   "cell_type": "code",
   "execution_count": 5,
   "metadata": {},
   "outputs": [
    {
     "data": {
      "text/html": [
       "<div>\n",
       "<style scoped>\n",
       "    .dataframe tbody tr th:only-of-type {\n",
       "        vertical-align: middle;\n",
       "    }\n",
       "\n",
       "    .dataframe tbody tr th {\n",
       "        vertical-align: top;\n",
       "    }\n",
       "\n",
       "    .dataframe thead th {\n",
       "        text-align: right;\n",
       "    }\n",
       "</style>\n",
       "<table border=\"1\" class=\"dataframe\">\n",
       "  <thead>\n",
       "    <tr style=\"text-align: right;\">\n",
       "      <th></th>\n",
       "      <th>Candidate</th>\n",
       "      <th>PoliticalParty</th>\n",
       "      <th>ElectionYear</th>\n",
       "      <th>OfficeSought</th>\n",
       "      <th>IsIncument</th>\n",
       "      <th>TotalVotes</th>\n",
       "    </tr>\n",
       "  </thead>\n",
       "  <tbody>\n",
       "    <tr>\n",
       "      <th>0</th>\n",
       "      <td>J WARNER</td>\n",
       "      <td>Republican</td>\n",
       "      <td>1996</td>\n",
       "      <td>United States Senate - 2001 CD Lines</td>\n",
       "      <td>False</td>\n",
       "      <td>1179088</td>\n",
       "    </tr>\n",
       "    <tr>\n",
       "      <th>1</th>\n",
       "      <td>CLINTON</td>\n",
       "      <td>Democratic</td>\n",
       "      <td>1996</td>\n",
       "      <td>President and Vice President - 2001 CD Lines</td>\n",
       "      <td>False</td>\n",
       "      <td>1039983</td>\n",
       "    </tr>\n",
       "    <tr>\n",
       "      <th>2</th>\n",
       "      <td>M WARNER</td>\n",
       "      <td>Democratic</td>\n",
       "      <td>1996</td>\n",
       "      <td>United States Senate - 2001 CD Lines</td>\n",
       "      <td>False</td>\n",
       "      <td>1064119</td>\n",
       "    </tr>\n",
       "    <tr>\n",
       "      <th>3</th>\n",
       "      <td>DOLE</td>\n",
       "      <td>Republican</td>\n",
       "      <td>1996</td>\n",
       "      <td>President and Vice President - 2001 CD Lines</td>\n",
       "      <td>False</td>\n",
       "      <td>1086819</td>\n",
       "    </tr>\n",
       "    <tr>\n",
       "      <th>4</th>\n",
       "      <td>C ROBB</td>\n",
       "      <td>Democratic</td>\n",
       "      <td>2000</td>\n",
       "      <td>United States Senate - 2001 CD Lines</td>\n",
       "      <td>False</td>\n",
       "      <td>1233185</td>\n",
       "    </tr>\n",
       "  </tbody>\n",
       "</table>\n",
       "</div>"
      ],
      "text/plain": [
       "  Candidate PoliticalParty  ElectionYear  \\\n",
       "0  J WARNER     Republican          1996   \n",
       "1   CLINTON     Democratic          1996   \n",
       "2  M WARNER     Democratic          1996   \n",
       "3      DOLE     Republican          1996   \n",
       "4    C ROBB     Democratic          2000   \n",
       "\n",
       "                                   OfficeSought  IsIncument  TotalVotes  \n",
       "0          United States Senate - 2001 CD Lines       False     1179088  \n",
       "1  President and Vice President - 2001 CD Lines       False     1039983  \n",
       "2          United States Senate - 2001 CD Lines       False     1064119  \n",
       "3  President and Vice President - 2001 CD Lines       False     1086819  \n",
       "4          United States Senate - 2001 CD Lines       False     1233185  "
      ]
     },
     "execution_count": 5,
     "metadata": {},
     "output_type": "execute_result"
    }
   ],
   "source": [
    "VAvotes = VAvotes.sort_values(by = \"ElectionYear\")\n",
    "VAvotes.reset_index(inplace=True)\n",
    "del VAvotes['index']\n",
    "VAvotes.head()"
   ]
  },
  {
   "cell_type": "code",
   "execution_count": 105,
   "metadata": {},
   "outputs": [
    {
     "data": {
      "text/html": [
       "<div>\n",
       "<style scoped>\n",
       "    .dataframe tbody tr th:only-of-type {\n",
       "        vertical-align: middle;\n",
       "    }\n",
       "\n",
       "    .dataframe tbody tr th {\n",
       "        vertical-align: top;\n",
       "    }\n",
       "\n",
       "    .dataframe thead th {\n",
       "        text-align: right;\n",
       "    }\n",
       "</style>\n",
       "<table border=\"1\" class=\"dataframe\">\n",
       "  <thead>\n",
       "    <tr style=\"text-align: right;\">\n",
       "      <th></th>\n",
       "      <th>Candidate</th>\n",
       "      <th>PoliticalParty</th>\n",
       "      <th>ElectionYear</th>\n",
       "      <th>OfficeSought</th>\n",
       "      <th>IsIncument</th>\n",
       "      <th>TotalVotes</th>\n",
       "    </tr>\n",
       "  </thead>\n",
       "  <tbody>\n",
       "    <tr>\n",
       "      <th>0</th>\n",
       "      <td>J WARNER</td>\n",
       "      <td>Republican</td>\n",
       "      <td>1996</td>\n",
       "      <td>United States Senate - 2001 CD Lines</td>\n",
       "      <td>False</td>\n",
       "      <td>1179088</td>\n",
       "    </tr>\n",
       "    <tr>\n",
       "      <th>1</th>\n",
       "      <td>CLINTON</td>\n",
       "      <td>Democratic</td>\n",
       "      <td>1996</td>\n",
       "      <td>President and Vice President - 2001 CD Lines</td>\n",
       "      <td>False</td>\n",
       "      <td>1039983</td>\n",
       "    </tr>\n",
       "    <tr>\n",
       "      <th>2</th>\n",
       "      <td>M WARNER</td>\n",
       "      <td>Democratic</td>\n",
       "      <td>1996</td>\n",
       "      <td>United States Senate - 2001 CD Lines</td>\n",
       "      <td>False</td>\n",
       "      <td>1064119</td>\n",
       "    </tr>\n",
       "    <tr>\n",
       "      <th>3</th>\n",
       "      <td>DOLE</td>\n",
       "      <td>Republican</td>\n",
       "      <td>1996</td>\n",
       "      <td>President and Vice President - 2001 CD Lines</td>\n",
       "      <td>False</td>\n",
       "      <td>1086819</td>\n",
       "    </tr>\n",
       "    <tr>\n",
       "      <th>4</th>\n",
       "      <td>C ROBB</td>\n",
       "      <td>Democratic</td>\n",
       "      <td>2000</td>\n",
       "      <td>United States Senate - 2001 CD Lines</td>\n",
       "      <td>False</td>\n",
       "      <td>1233185</td>\n",
       "    </tr>\n",
       "  </tbody>\n",
       "</table>\n",
       "</div>"
      ],
      "text/plain": [
       "  Candidate PoliticalParty  ElectionYear  \\\n",
       "0  J WARNER     Republican          1996   \n",
       "1   CLINTON     Democratic          1996   \n",
       "2  M WARNER     Democratic          1996   \n",
       "3      DOLE     Republican          1996   \n",
       "4    C ROBB     Democratic          2000   \n",
       "\n",
       "                                   OfficeSought  IsIncument  TotalVotes  \n",
       "0          United States Senate - 2001 CD Lines       False     1179088  \n",
       "1  President and Vice President - 2001 CD Lines       False     1039983  \n",
       "2          United States Senate - 2001 CD Lines       False     1064119  \n",
       "3  President and Vice President - 2001 CD Lines       False     1086819  \n",
       "4          United States Senate - 2001 CD Lines       False     1233185  "
      ]
     },
     "execution_count": 105,
     "metadata": {},
     "output_type": "execute_result"
    }
   ],
   "source": [
    "VAvotes.head()"
   ]
  },
  {
   "cell_type": "code",
   "execution_count": 6,
   "metadata": {},
   "outputs": [
    {
     "data": {
      "text/plain": [
       "0    1179088\n",
       "9    1226404\n",
       "Name: TotalVotes, dtype: int64"
      ]
     },
     "execution_count": 6,
     "metadata": {},
     "output_type": "execute_result"
    }
   ],
   "source": [
    "VAvotes[\"TotalVotes\"][pd.Index(VAvotes[\"Candidate\"]).get_loc(\"J WARNER\")]"
   ]
  },
  {
   "cell_type": "code",
   "execution_count": 7,
   "metadata": {},
   "outputs": [],
   "source": [
    "Polparty = []\n",
    "for i in VAvotes[\"PoliticalParty\"]:\n",
    "    if i == \"Republican\":\n",
    "        Polparty.append('r')\n",
    "    elif i == \"Democratic\":\n",
    "        Polparty.append('b')\n",
    "    else:\n",
    "        Polparty.append('g')"
   ]
  },
  {
   "cell_type": "code",
   "execution_count": 8,
   "metadata": {},
   "outputs": [],
   "source": [
    "nameMaxValue = []\n",
    "votes = []\n",
    "for Year in VAvotes[\"ElectionYear\"].unique():\n",
    "    n = VAvotes[\"TotalVotes\"][pd.Index(VAvotes[\"ElectionYear\"]).get_loc(Year)]\n",
    "    if type(n) == numpy.int64:\n",
    "        largeval = n\n",
    "    else:\n",
    "        largeval = max(VAvotes[\"TotalVotes\"][pd.Index(VAvotes[\"ElectionYear\"]).get_loc(Year)])\n",
    "    votes.append(largeval)\n",
    "    nameMaxValue.append(VAvotes[\"Candidate\"][pd.Index(VAvotes[\"TotalVotes\"]).get_loc(largeval)])"
   ]
  },
  {
   "cell_type": "code",
   "execution_count": 12,
   "metadata": {},
   "outputs": [
    {
     "data": {
      "image/png": "[encoded data removed]",
      "text/plain": [
       "<Figure size 432x288 with 1 Axes>"
      ]
     },
     "metadata": {},
     "output_type": "display_data"
    }
   ],
   "source": [
    "fig = plt.figure(facecolor=\"whitesmoke\")\n",
    "ax = fig.add_subplot(111, axisbelow=True)\n",
    "ax.scatter(VAvotes[\"ElectionYear\"],VAvotes[\"TotalVotes\"],c=Polparty , alpha=0.5, lw=.003)\n",
    "# plt.rcParams['figure.facecolor'] = 'white'\n",
    "texts = []\n",
    "for x, y, s in zip(VAvotes[\"ElectionYear\"].unique(),votes, nameMaxValue):\n",
    "    texts.append(plt.text(x,y,s))\n",
    "\n",
    "adjust_text(texts, force_points=0.2, force_text=0.2,\n",
    "            expand_points=(1, 1), expand_text=(1, 1),\n",
    "            arrowprops=dict(arrowstyle=\"-\", color='black', lw=0.5))\n",
    "\n",
    "ax.set_facecolor('whitesmoke')\n",
    "ax.set_xlabel('Election Year')\n",
    "ax.set_ylabel('Amount of Votes received')\n",
    "\n",
    "# ax.set_ylim(0,1.2)\n",
    "plt.xticks(range(1996,2022,4))\n",
    "ax.yaxis.set_tick_params(length=0)\n",
    "ax.xaxis.set_tick_params(length=0)\n",
    "ax.grid(b=True, which='major', c='w', lw=2, ls='-')\n",
    "# legend = ax.legend()\n",
    "# legend.get_frame().set_alpha(0.5)\n",
    "for spine in ('top', 'right', 'bottom', 'left'):\n",
    "    ax.spines[spine].set_visible(False)\n",
    "plt.title(\"All-time Top Vote Getters\")\n",
    "plt.show()  \n",
    "\n",
    "fig.savefig('whatever.png', facecolor=fig.get_facecolor(), edgecolor='none')"
   ]
  },
  {
   "cell_type": "code",
   "execution_count": 18,
   "metadata": {},
   "outputs": [],
   "source": [
    "VApop[\"date\"] = VApop[\"date\"].map(lambda x: x[:-2])"
   ]
  },
  {
   "cell_type": "code",
   "execution_count": 19,
   "metadata": {},
   "outputs": [
    {
     "data": {
      "text/html": [
       "<div>\n",
       "<style scoped>\n",
       "    .dataframe tbody tr th:only-of-type {\n",
       "        vertical-align: middle;\n",
       "    }\n",
       "\n",
       "    .dataframe tbody tr th {\n",
       "        vertical-align: top;\n",
       "    }\n",
       "\n",
       "    .dataframe thead th {\n",
       "        text-align: right;\n",
       "    }\n",
       "</style>\n",
       "<table border=\"1\" class=\"dataframe\">\n",
       "  <thead>\n",
       "    <tr style=\"text-align: right;\">\n",
       "      <th></th>\n",
       "      <th>date</th>\n",
       "      <th>Population</th>\n",
       "      <th>Annual Change</th>\n",
       "    </tr>\n",
       "  </thead>\n",
       "  <tbody>\n",
       "    <tr>\n",
       "      <th>0</th>\n",
       "      <td>1900</td>\n",
       "      <td>1858000</td>\n",
       "      <td>NaN</td>\n",
       "    </tr>\n",
       "    <tr>\n",
       "      <th>1</th>\n",
       "      <td>1901</td>\n",
       "      <td>1887000</td>\n",
       "      <td>1.56</td>\n",
       "    </tr>\n",
       "    <tr>\n",
       "      <th>2</th>\n",
       "      <td>1902</td>\n",
       "      <td>1894000</td>\n",
       "      <td>0.37</td>\n",
       "    </tr>\n",
       "    <tr>\n",
       "      <th>3</th>\n",
       "      <td>1903</td>\n",
       "      <td>1890000</td>\n",
       "      <td>-0.21</td>\n",
       "    </tr>\n",
       "    <tr>\n",
       "      <th>4</th>\n",
       "      <td>1904</td>\n",
       "      <td>1889000</td>\n",
       "      <td>-0.05</td>\n",
       "    </tr>\n",
       "  </tbody>\n",
       "</table>\n",
       "</div>"
      ],
      "text/plain": [
       "   date   Population   Annual Change\n",
       "0  1900      1858000             NaN\n",
       "1  1901      1887000            1.56\n",
       "2  1902      1894000            0.37\n",
       "3  1903      1890000           -0.21\n",
       "4  1904      1889000           -0.05"
      ]
     },
     "execution_count": 19,
     "metadata": {},
     "output_type": "execute_result"
    }
   ],
   "source": [
    "VApop.head()"
   ]
  },
  {
   "cell_type": "code",
   "execution_count": 20,
   "metadata": {},
   "outputs": [],
   "source": [
    "# pd.Index(VApop[\"date\"]).get_loc(\"1996\")\n",
    "temp = []\n",
    "for i, Year in enumerate(VAvotes[\"ElectionYear\"].unique()):\n",
    "    n = VAvotes[\"TotalVotes\"][pd.Index(VAvotes[\"ElectionYear\"]).get_loc(Year)]/VApop[\" Population\"][pd.Index(VApop[\"date\"]).get_loc(str(Year))]\n",
    "    if hasattr(n, \"__len__\") and (not isinstance(n, str)):\n",
    "        for j in n:\n",
    "            temp.append(j)\n",
    "    else:\n",
    "        temp.append(n)"
   ]
  },
  {
   "cell_type": "code",
   "execution_count": 128,
   "metadata": {},
   "outputs": [
    {
     "ename": "AttributeError",
     "evalue": "'list' object has no attribute 'shape'",
     "output_type": "error",
     "traceback": [
      "\u001b[0;31m---------------------------------------------------------------------------\u001b[0m",
      "\u001b[0;31mAttributeError\u001b[0m                            Traceback (most recent call last)",
      "\u001b[0;32m<ipython-input-128-5fac58333b5b>\u001b[0m in \u001b[0;36m<module>\u001b[0;34m\u001b[0m\n\u001b[0;32m----> 1\u001b[0;31m \u001b[0mtemp\u001b[0m\u001b[0;34m.\u001b[0m\u001b[0mshape\u001b[0m\u001b[0;34m(\u001b[0m\u001b[0;34m)\u001b[0m\u001b[0;34m\u001b[0m\u001b[0;34m\u001b[0m\u001b[0m\n\u001b[0m",
      "\u001b[0;31mAttributeError\u001b[0m: 'list' object has no attribute 'shape'"
     ]
    }
   ],
   "source": []
  },
  {
   "cell_type": "code",
   "execution_count": 21,
   "metadata": {},
   "outputs": [],
   "source": [
    "VAvotes[\"VoteRatio\"] = temp"
   ]
  },
  {
   "cell_type": "code",
   "execution_count": 22,
   "metadata": {},
   "outputs": [],
   "source": [
    "nameMaxRatio = []\n",
    "maxRatioVotes = []\n",
    "for Year in VAvotes[\"ElectionYear\"].unique():\n",
    "    n = VAvotes[\"VoteRatio\"][pd.Index(VAvotes[\"ElectionYear\"]).get_loc(Year)]\n",
    "    if hasattr(n, \"__len__\") and (not isinstance(n, str)):\n",
    "        largeval = max(VAvotes[\"VoteRatio\"][pd.Index(VAvotes[\"ElectionYear\"]).get_loc(Year)])\n",
    "    else:\n",
    "        largeval = n\n",
    "    maxRatioVotes.append(largeval)\n",
    "    nameMaxRatio.append(VAvotes[\"Candidate\"][pd.Index(VAvotes[\"VoteRatio\"]).get_loc(largeval)])"
   ]
  },
  {
   "cell_type": "code",
   "execution_count": 25,
   "metadata": {},
   "outputs": [
    {
     "data": {
      "image/png": "[encoded data removed]",
      "text/plain": [
       "<Figure size 432x288 with 1 Axes>"
      ]
     },
     "metadata": {},
     "output_type": "display_data"
    }
   ],
   "source": [
    "fig = plt.figure(facecolor=\"whitesmoke\")\n",
    "ax = fig.add_subplot(111, axisbelow=True)\n",
    "ax.scatter(VAvotes[\"ElectionYear\"],VAvotes[\"VoteRatio\"],c=Polparty , alpha=0.5, lw=.003)\n",
    "texts = []\n",
    "for x, y, s in zip(VAvotes[\"ElectionYear\"].unique(),maxRatioVotes, nameMaxRatio):\n",
    "    texts.append(plt.text(x,y,s))\n",
    "\n",
    "adjust_text(texts, force_points=0.2, force_text=0.2,\n",
    "            expand_points=(1, 1), expand_text=(1, 1),\n",
    "            arrowprops=dict(arrowstyle=\"-\", color='black', lw=0.5))\n",
    "\n",
    "ax.set_facecolor('whitesmoke')\n",
    "ax.set_xlabel('Election Year')\n",
    "ax.set_ylabel('Ratio of Total Population of that Year')\n",
    "\n",
    "# ax.set_ylim(0,1.2)\n",
    "plt.xticks(range(1996,2022,4))\n",
    "ax.yaxis.set_tick_params(length=0)\n",
    "ax.xaxis.set_tick_params(length=0)\n",
    "ax.grid(b=True, which='major', c='w', lw=2, ls='-')\n",
    "# legend = ax.legend()\n",
    "# legend.get_frame().set_alpha(0.5)\n",
    "for spine in ('top', 'right', 'bottom', 'left'):\n",
    "    ax.spines[spine].set_visible(False)\n",
    "plt.title(\"All-time Top Ratio Getters\")\n",
    "plt.show()"
   ]
  },
  {
   "cell_type": "code",
   "execution_count": 156,
   "metadata": {},
   "outputs": [
    {
     "data": {
      "image/png": "[encoded data removed]",
      "text/plain": [
       "<Figure size 432x288 with 1 Axes>"
      ]
     },
     "metadata": {
      "needs_background": "light"
     },
     "output_type": "display_data"
    }
   ],
   "source": [
    "fig = plt.figure()\n",
    "ax = fig.add_subplot(111, axisbelow=True)\n",
    "ax.scatter(VAvotes[\"VoteRatio\"],VAvotes[\"Candidate\"],c=Polparty , alpha=0.5, lw=.003)\n",
    "\n",
    "\n",
    "ax.set_facecolor('whitesmoke')\n",
    "ax.set_xlabel('Election Year')\n",
    "ax.set_ylabel('Ratio of Total Population of that Year')\n",
    "\n",
    "\n",
    "ax.yaxis.set_tick_params(length=0)\n",
    "ax.xaxis.set_tick_params(length=0)\n",
    "ax.set_yticklabels(VAvotes[\"Candidate\"], fontsize = 10, va='bottom', ha='left')\n",
    "ax.grid(b=True, which='major', c='w', lw=2, ls='-')\n",
    "# legend = ax.legend()\n",
    "# legend.get_frame().set_alpha(0.5)\n",
    "for spine in ('top', 'right', 'bottom', 'left'):\n",
    "    ax.spines[spine].set_visible(False)\n",
    "plt.title(\"All-time Top Vote Getters\")\n",
    "plt.show()\n",
    "\n"
   ]
  },
  {
   "cell_type": "code",
   "execution_count": null,
   "metadata": {},
   "outputs": [],
   "source": []
  }
 ],
 "metadata": {
  "kernelspec": {
   "display_name": "Python 3",
   "language": "python",
   "name": "python3"
  },
  "language_info": {
   "codemirror_mode": {
    "name": "ipython",
    "version": 3
   },
   "file_extension": ".py",
   "mimetype": "text/x-python",
   "name": "python",
   "nbconvert_exporter": "python",
   "pygments_lexer": "ipython3",
   "version": "3.8.5"
  }
 },
 "nbformat": 4,
 "nbformat_minor": 4
}
